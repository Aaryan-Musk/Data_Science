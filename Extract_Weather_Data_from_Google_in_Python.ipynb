{
  "nbformat": 4,
  "nbformat_minor": 0,
  "metadata": {
    "colab": {
      "provenance": [],
      "authorship_tag": "ABX9TyP5/oRZsoDH38VsD0pRF2eH",
      "include_colab_link": true
    },
    "kernelspec": {
      "name": "python3",
      "display_name": "Python 3"
    },
    "language_info": {
      "name": "python"
    }
  },
  "cells": [
    {
      "cell_type": "markdown",
      "metadata": {
        "id": "view-in-github",
        "colab_type": "text"
      },
      "source": [
        "<a href=\"https://colab.research.google.com/github/Aaryan-Musk/Data_Science/blob/main/Extract_Weather_Data_from_Google_in_Python.ipynb\" target=\"_parent\"><img src=\"https://colab.research.google.com/assets/colab-badge.svg\" alt=\"Open In Colab\"/></a>"
      ]
    },
    {
      "cell_type": "code",
      "execution_count": 2,
      "metadata": {
        "colab": {
          "base_uri": "https://localhost:8080/"
        },
        "id": "5x5bCnYXjbNT",
        "outputId": "f0a6a8c8-eb0b-445b-876a-592f67250731"
      },
      "outputs": [
        {
          "output_type": "stream",
          "name": "stdout",
          "text": [
            "Requirement already satisfied: requests in /usr/local/lib/python3.10/dist-packages (2.31.0)\n",
            "Requirement already satisfied: charset-normalizer<4,>=2 in /usr/local/lib/python3.10/dist-packages (from requests) (3.3.2)\n",
            "Requirement already satisfied: idna<4,>=2.5 in /usr/local/lib/python3.10/dist-packages (from requests) (3.7)\n",
            "Requirement already satisfied: urllib3<3,>=1.21.1 in /usr/local/lib/python3.10/dist-packages (from requests) (2.0.7)\n",
            "Requirement already satisfied: certifi>=2017.4.17 in /usr/local/lib/python3.10/dist-packages (from requests) (2024.6.2)\n"
          ]
        }
      ],
      "source": [
        "!pip install requests"
      ]
    },
    {
      "cell_type": "code",
      "source": [
        "# importing the library\n",
        "import requests\n",
        "from bs4 import BeautifulSoup\n"
      ],
      "metadata": {
        "id": "wS24BPkJll2D"
      },
      "execution_count": 4,
      "outputs": []
    },
    {
      "cell_type": "code",
      "source": [
        "# enter city name\n",
        "city = \"lucknow\"\n",
        "\n",
        "# create url\n",
        "url = \"https://www.google.com/search?q=\"+\"weather\"+city\n",
        "\n",
        "# requests instance\n",
        "html = requests.get(url).content\n",
        "\n",
        "# getting raw data\n",
        "soup = BeautifulSoup(html, 'html.parser')\n"
      ],
      "metadata": {
        "id": "xATQyhpPlzVZ"
      },
      "execution_count": 5,
      "outputs": []
    },
    {
      "cell_type": "code",
      "source": [
        "# get the temperature\n",
        "temp = soup.find('div', attrs={'class': 'BNeawe iBp4i AP7Wnd'}).text\n",
        "\n",
        "# this contains time and sky description\n",
        "str = soup.find('div', attrs={'class': 'BNeawe tAd8D AP7Wnd'}).text\n",
        "\n",
        "# format the data\n",
        "data = str.split('\\n')\n",
        "time = data[0]\n",
        "sky = data[1]\n"
      ],
      "metadata": {
        "id": "ox2RTosUl12D"
      },
      "execution_count": 6,
      "outputs": []
    },
    {
      "cell_type": "code",
      "source": [
        "# list having all div tags having particular class name\n",
        "listdiv = soup.findAll('div', attrs={'class': 'BNeawe s3v9rd AP7Wnd'})\n",
        "\n",
        "# particular list with required data\n",
        "strd = listdiv[5].text\n",
        "\n",
        "# formatting the string\n",
        "pos = strd.find('Wind')\n",
        "other_data = strd[pos:]\n"
      ],
      "metadata": {
        "id": "WH8Zhm1Al4Zg"
      },
      "execution_count": 7,
      "outputs": []
    },
    {
      "cell_type": "code",
      "source": [
        "# printing all the data\n",
        "print(\"Temperature is\", temp)\n",
        "print(\"Time: \", time)\n",
        "print(\"Sky Description: \", sky)\n",
        "print(other_data)\n"
      ],
      "metadata": {
        "colab": {
          "base_uri": "https://localhost:8080/"
        },
        "id": "hRXX1uZTl6Wd",
        "outputId": "c302e73a-c4aa-43b9-a732-8bb41514efe4"
      },
      "execution_count": 8,
      "outputs": [
        {
          "output_type": "stream",
          "name": "stdout",
          "text": [
            "Temperature is 99°F\n",
            "Time:  Thursday 5:50 PM\n",
            "Sky Description:  Haze\n",
            ".\n"
          ]
        }
      ]
    },
    {
      "cell_type": "code",
      "source": [
        "# importing library\n",
        "import requests\n",
        "from bs4 import BeautifulSoup\n",
        "\n",
        "# enter city name\n",
        "city = \"lucknow\"\n",
        "\n",
        "# creating url and requests instance\n",
        "url = \"https://www.google.com/search?q=\"+\"weather\"+city\n",
        "html = requests.get(url).content\n",
        "\n",
        "# getting raw data\n",
        "soup = BeautifulSoup(html, 'html.parser')\n",
        "temp = soup.find('div', attrs={'class': 'BNeawe iBp4i AP7Wnd'}).text\n",
        "str = soup.find('div', attrs={'class': 'BNeawe tAd8D AP7Wnd'}).text\n",
        "\n",
        "# formatting data\n",
        "data = str.split('\\n')\n",
        "time = data[0]\n",
        "sky = data[1]\n",
        "\n",
        "# getting all div tag\n",
        "listdiv = soup.findAll('div', attrs={'class': 'BNeawe s3v9rd AP7Wnd'})\n",
        "strd = listdiv[5].text\n",
        "\n",
        "# getting other required data\n",
        "pos = strd.find('Wind')\n",
        "other_data = strd[pos:]\n",
        "\n",
        "# printing all data\n",
        "print(\"Temperature is\", temp)\n",
        "print(\"Time: \", time)\n",
        "print(\"Sky Description: \", sky)\n",
        "print(other_data)\n"
      ],
      "metadata": {
        "colab": {
          "base_uri": "https://localhost:8080/"
        },
        "id": "FA4os4iVl8-F",
        "outputId": "ea9fae8d-a130-4e1f-8f2b-933d3837aa35"
      },
      "execution_count": 9,
      "outputs": [
        {
          "output_type": "stream",
          "name": "stdout",
          "text": [
            "Temperature is 99°F\n",
            "Time:  Thursday 5:51 PM\n",
            "Sky Description:  Haze\n",
            ".\n"
          ]
        }
      ]
    },
    {
      "cell_type": "code",
      "source": [
        "# Python code to display schematic weather details\n",
        "import requests\n",
        "#Sending requests to get the IP Location Information\n",
        "res = requests.get('https://ipinfo.io/')\n",
        "# Receiving the response in JSON format\n",
        "data = res.json()\n",
        "# Extracting the Location of the City from the response\n",
        "citydata = data['city']\n",
        "# Prints the Current Location\n",
        "print(citydata)\n",
        "# Passing the City name to the url\n",
        "url = 'https://wttr.in/{}'.format(citydata)\n",
        "# Getting the Weather Data of the City\n",
        "res = requests.get(url)\n",
        "# Printing the results!\n",
        "print(res.text)\n",
        "# This code is contributed by PL VISHNUPPRIYAN\n"
      ],
      "metadata": {
        "colab": {
          "base_uri": "https://localhost:8080/"
        },
        "id": "bC8y0vW-l_br",
        "outputId": "6aa3055c-dda3-4e1a-eb2c-88189e078d74"
      },
      "execution_count": 10,
      "outputs": [
        {
          "output_type": "stream",
          "name": "stdout",
          "text": [
            "North Charleston\n",
            "Weather report: North Charleston\n",
            "\n",
            "  \u001b[38;5;226m _`/\"\"\u001b[38;5;250m.-.    \u001b[0m Patchy rain nearby\n",
            "  \u001b[38;5;226m  ,\\_\u001b[38;5;250m(   ).  \u001b[0m \u001b[38;5;220m+77\u001b[0m(\u001b[38;5;220m80\u001b[0m) °F\u001b[0m     \n",
            "  \u001b[38;5;226m   /\u001b[38;5;250m(___(__) \u001b[0m \u001b[1m↙\u001b[0m \u001b[38;5;226m8\u001b[0m mph\u001b[0m        \n",
            "  \u001b[38;5;111m     ‘ ‘ ‘ ‘ \u001b[0m 6 mi\u001b[0m           \n",
            "  \u001b[38;5;111m    ‘ ‘ ‘ ‘  \u001b[0m 0.0 in\u001b[0m         \n",
            "                                                       ┌─────────────┐                                                       \n",
            "┌──────────────────────────────┬───────────────────────┤  Thu 20 Jun ├───────────────────────┬──────────────────────────────┐\n",
            "│            Morning           │             Noon      └──────┬──────┘     Evening           │             Night            │\n",
            "├──────────────────────────────┼──────────────────────────────┼──────────────────────────────┼──────────────────────────────┤\n",
            "│ \u001b[38;5;226m _`/\"\"\u001b[38;5;250m.-.    \u001b[0m Patchy rain ne…│ \u001b[38;5;226m   \\  /\u001b[0m       Partly Cloudy  │ \u001b[38;5;226m    \\   /    \u001b[0m Sunny          │ \u001b[38;5;226m    \\   /    \u001b[0m Clear          │\n",
            "│ \u001b[38;5;226m  ,\\_\u001b[38;5;250m(   ).  \u001b[0m \u001b[38;5;220m+78\u001b[0m(\u001b[38;5;214m82\u001b[0m) °F\u001b[0m     │ \u001b[38;5;226m _ /\"\"\u001b[38;5;250m.-.    \u001b[0m \u001b[38;5;214m+82\u001b[0m(\u001b[38;5;214m84\u001b[0m) °F\u001b[0m     │ \u001b[38;5;226m     .-.     \u001b[0m \u001b[38;5;214m+82\u001b[0m(\u001b[38;5;214m84\u001b[0m) °F\u001b[0m     │ \u001b[38;5;226m     .-.     \u001b[0m \u001b[38;5;220m+77\u001b[0m(\u001b[38;5;220m78\u001b[0m) °F\u001b[0m     │\n",
            "│ \u001b[38;5;226m   /\u001b[38;5;250m(___(__) \u001b[0m \u001b[1m↙\u001b[0m \u001b[38;5;220m10\u001b[0m-\u001b[38;5;214m12\u001b[0m mph\u001b[0m    │ \u001b[38;5;226m   \\_\u001b[38;5;250m(   ).  \u001b[0m \u001b[1m↙\u001b[0m \u001b[38;5;214m12\u001b[0m-\u001b[38;5;214m14\u001b[0m mph\u001b[0m    │ \u001b[38;5;226m  ― (   ) ―  \u001b[0m \u001b[1m←\u001b[0m \u001b[38;5;214m13\u001b[0m-\u001b[38;5;208m14\u001b[0m mph\u001b[0m    │ \u001b[38;5;226m  ― (   ) ―  \u001b[0m \u001b[1m↙\u001b[0m \u001b[38;5;226m9\u001b[0m-\u001b[38;5;208m14\u001b[0m mph\u001b[0m     │\n",
            "│ \u001b[38;5;111m     ‘ ‘ ‘ ‘ \u001b[0m 6 mi\u001b[0m           │ \u001b[38;5;226m   /\u001b[38;5;250m(___(__) \u001b[0m 6 mi\u001b[0m           │ \u001b[38;5;226m     `-’     \u001b[0m 6 mi\u001b[0m           │ \u001b[38;5;226m     `-’     \u001b[0m 6 mi\u001b[0m           │\n",
            "│ \u001b[38;5;111m    ‘ ‘ ‘ ‘  \u001b[0m 0.0 in | 84%\u001b[0m   │               0.0 in | 0%\u001b[0m    │ \u001b[38;5;226m    /   \\    \u001b[0m 0.0 in | 0%\u001b[0m    │ \u001b[38;5;226m    /   \\    \u001b[0m 0.0 in | 0%\u001b[0m    │\n",
            "└──────────────────────────────┴──────────────────────────────┴──────────────────────────────┴──────────────────────────────┘\n",
            "                                                       ┌─────────────┐                                                       \n",
            "┌──────────────────────────────┬───────────────────────┤  Fri 21 Jun ├───────────────────────┬──────────────────────────────┐\n",
            "│            Morning           │             Noon      └──────┬──────┘     Evening           │             Night            │\n",
            "├──────────────────────────────┼──────────────────────────────┼──────────────────────────────┼──────────────────────────────┤\n",
            "│ \u001b[38;5;226m _`/\"\"\u001b[38;5;250m.-.    \u001b[0m Light rain sho…│ \u001b[38;5;226m _`/\"\"\u001b[38;5;250m.-.    \u001b[0m Light rain sho…│ \u001b[38;5;226m    \\   /    \u001b[0m Sunny          │ \u001b[38;5;226m    \\   /    \u001b[0m Clear          │\n",
            "│ \u001b[38;5;226m  ,\\_\u001b[38;5;250m(   ).  \u001b[0m \u001b[38;5;220m+80\u001b[0m(\u001b[38;5;214m86\u001b[0m) °F\u001b[0m     │ \u001b[38;5;226m  ,\\_\u001b[38;5;250m(   ).  \u001b[0m \u001b[38;5;214m+84\u001b[0m(\u001b[38;5;208m89\u001b[0m) °F\u001b[0m     │ \u001b[38;5;226m     .-.     \u001b[0m \u001b[38;5;214m+84\u001b[0m(\u001b[38;5;208m89\u001b[0m) °F\u001b[0m     │ \u001b[38;5;226m     .-.     \u001b[0m \u001b[38;5;220m+78\u001b[0m(\u001b[38;5;214m82\u001b[0m) °F\u001b[0m     │\n",
            "│ \u001b[38;5;226m   /\u001b[38;5;250m(___(__) \u001b[0m \u001b[1m↙\u001b[0m \u001b[38;5;220m10\u001b[0m-\u001b[38;5;214m12\u001b[0m mph\u001b[0m    │ \u001b[38;5;226m   /\u001b[38;5;250m(___(__) \u001b[0m \u001b[1m←\u001b[0m \u001b[38;5;220m10\u001b[0m-\u001b[38;5;214m14\u001b[0m mph\u001b[0m    │ \u001b[38;5;226m  ― (   ) ―  \u001b[0m \u001b[1m←\u001b[0m \u001b[38;5;226m9\u001b[0m-\u001b[38;5;220m10\u001b[0m mph\u001b[0m     │ \u001b[38;5;226m  ― (   ) ―  \u001b[0m \u001b[1m←\u001b[0m \u001b[38;5;154m5\u001b[0m-\u001b[38;5;226m9\u001b[0m mph\u001b[0m      │\n",
            "│ \u001b[38;5;111m     ‘ ‘ ‘ ‘ \u001b[0m 6 mi\u001b[0m           │ \u001b[38;5;111m     ‘ ‘ ‘ ‘ \u001b[0m 6 mi\u001b[0m           │ \u001b[38;5;226m     `-’     \u001b[0m 6 mi\u001b[0m           │ \u001b[38;5;226m     `-’     \u001b[0m 6 mi\u001b[0m           │\n",
            "│ \u001b[38;5;111m    ‘ ‘ ‘ ‘  \u001b[0m 0.0 in | 100%\u001b[0m  │ \u001b[38;5;111m    ‘ ‘ ‘ ‘  \u001b[0m 0.0 in | 100%\u001b[0m  │ \u001b[38;5;226m    /   \\    \u001b[0m 0.0 in | 0%\u001b[0m    │ \u001b[38;5;226m    /   \\    \u001b[0m 0.0 in | 0%\u001b[0m    │\n",
            "└──────────────────────────────┴──────────────────────────────┴──────────────────────────────┴──────────────────────────────┘\n",
            "                                                       ┌─────────────┐                                                       \n",
            "┌──────────────────────────────┬───────────────────────┤  Sat 22 Jun ├───────────────────────┬──────────────────────────────┐\n",
            "│            Morning           │             Noon      └──────┬──────┘     Evening           │             Night            │\n",
            "├──────────────────────────────┼──────────────────────────────┼──────────────────────────────┼──────────────────────────────┤\n",
            "│ \u001b[38;5;226m _`/\"\"\u001b[38;5;250m.-.    \u001b[0m Light rain sho…│ \u001b[38;5;226m    \\   /    \u001b[0m Sunny          │ \u001b[38;5;226m    \\   /    \u001b[0m Sunny          │ \u001b[38;5;226m    \\   /    \u001b[0m Clear          │\n",
            "│ \u001b[38;5;226m  ,\\_\u001b[38;5;250m(   ).  \u001b[0m \u001b[38;5;214m+84\u001b[0m(\u001b[38;5;208m89\u001b[0m) °F\u001b[0m     │ \u001b[38;5;226m     .-.     \u001b[0m \u001b[38;5;208m+89\u001b[0m(\u001b[38;5;202m95\u001b[0m) °F\u001b[0m     │ \u001b[38;5;226m     .-.     \u001b[0m \u001b[38;5;214m+86\u001b[0m(\u001b[38;5;208m91\u001b[0m) °F\u001b[0m     │ \u001b[38;5;226m     .-.     \u001b[0m \u001b[38;5;220m+80\u001b[0m(\u001b[38;5;214m86\u001b[0m) °F\u001b[0m     │\n",
            "│ \u001b[38;5;226m   /\u001b[38;5;250m(___(__) \u001b[0m \u001b[1m↖\u001b[0m \u001b[38;5;118m3\u001b[0m mph\u001b[0m        │ \u001b[38;5;226m  ― (   ) ―  \u001b[0m \u001b[1m↖\u001b[0m \u001b[38;5;190m6\u001b[0m-\u001b[38;5;226m8\u001b[0m mph\u001b[0m      │ \u001b[38;5;226m  ― (   ) ―  \u001b[0m \u001b[1m↖\u001b[0m \u001b[38;5;220m10\u001b[0m-\u001b[38;5;220m11\u001b[0m mph\u001b[0m    │ \u001b[38;5;226m  ― (   ) ―  \u001b[0m \u001b[1m↑\u001b[0m \u001b[38;5;190m7\u001b[0m-\u001b[38;5;220m11\u001b[0m mph\u001b[0m     │\n",
            "│ \u001b[38;5;111m     ‘ ‘ ‘ ‘ \u001b[0m 6 mi\u001b[0m           │ \u001b[38;5;226m     `-’     \u001b[0m 6 mi\u001b[0m           │ \u001b[38;5;226m     `-’     \u001b[0m 6 mi\u001b[0m           │ \u001b[38;5;226m     `-’     \u001b[0m 6 mi\u001b[0m           │\n",
            "│ \u001b[38;5;111m    ‘ ‘ ‘ ‘  \u001b[0m 0.0 in | 100%\u001b[0m  │ \u001b[38;5;226m    /   \\    \u001b[0m 0.0 in | 0%\u001b[0m    │ \u001b[38;5;226m    /   \\    \u001b[0m 0.0 in | 0%\u001b[0m    │ \u001b[38;5;226m    /   \\    \u001b[0m 0.0 in | 0%\u001b[0m    │\n",
            "└──────────────────────────────┴──────────────────────────────┴──────────────────────────────┴──────────────────────────────┘\n",
            "Location: North Charleston, Charleston County, South Carolina, USA [32.8546197,-79.9748103]\n",
            "\n",
            "Follow \u001b[46m\u001b[30m@igor_chubin\u001b[0m for wttr.in updates\n",
            "\n"
          ]
        }
      ]
    },
    {
      "cell_type": "code",
      "source": [],
      "metadata": {
        "id": "SkyrqqY6mGA7"
      },
      "execution_count": null,
      "outputs": []
    }
  ]
}